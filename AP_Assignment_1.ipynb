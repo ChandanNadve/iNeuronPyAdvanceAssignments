{
 "cells": [
  {
   "cell_type": "markdown",
   "id": "f25335aa",
   "metadata": {},
   "source": [
    "# Advance Python Assignment 1"
   ]
  },
  {
   "cell_type": "markdown",
   "id": "391e731b",
   "metadata": {},
   "source": [
    "Q1. What is the purpose of Python's OOP?"
   ]
  },
  {
   "cell_type": "markdown",
   "id": "4f900917",
   "metadata": {},
   "source": [
    "##### Answer :\n",
    "\n",
    "The OOP in python is a way to make our code more modular\n",
    "\n",
    "1. Code Reusability - Using \n",
    "2. Modularity\n",
    "3. Abstraction\n",
    "4. Encapsulation\n",
    "5. Inheritance\n",
    "6. Polymporphism\n"
   ]
  },
  {
   "cell_type": "markdown",
   "id": "ec1cfadc",
   "metadata": {},
   "source": [
    "Q2. Where does an inheritance search look for an attribute?"
   ]
  },
  {
   "cell_type": "markdown",
   "id": "cc62f077",
   "metadata": {},
   "source": [
    "##### Answer :\n",
    "Inheritence search to look for an attribute in its own class, if the named attribute is not available then it will search in super class. If its not available in super class it will search in super class of supper class. This heirachy will continue til the top most super class is available."
   ]
  },
  {
   "cell_type": "markdown",
   "id": "70c9bdda",
   "metadata": {},
   "source": [
    "Q3. How do you distinguish between a class object and an instance object?"
   ]
  },
  {
   "cell_type": "markdown",
   "id": "b8e914e3",
   "metadata": {},
   "source": [
    "##### Answer :\n",
    "1. Class is structure of object. Class will give the bluepring of object\n",
    "\n",
    "2. Object is an real world entity. Object is instance of the class."
   ]
  },
  {
   "cell_type": "markdown",
   "id": "6f8bb14f",
   "metadata": {},
   "source": [
    "#### Q4. What makes the first argument in a class’s method function special?"
   ]
  },
  {
   "cell_type": "markdown",
   "id": "6f0ec229",
   "metadata": {},
   "source": [
    "##### Answer :\n",
    "\n",
    "The first argument in class method is \"self\" which will act like pointer, where it will assign the variable to object"
   ]
  },
  {
   "cell_type": "markdown",
   "id": "e4439af1",
   "metadata": {},
   "source": [
    "#### Q5. What is the purpose of the __ init__ method?"
   ]
  },
  {
   "cell_type": "markdown",
   "id": "86f25b5c",
   "metadata": {},
   "source": [
    "##### Answer :\n",
    "\n",
    "__ init__ is a inbuilt method/constructor used in the class to intialize the properties(variable) of an object while creating object.  "
   ]
  },
  {
   "cell_type": "markdown",
   "id": "368bac0b",
   "metadata": {},
   "source": [
    "#### Q6. What is the process for creating a class instance?"
   ]
  },
  {
   "cell_type": "markdown",
   "id": "de06eca0",
   "metadata": {},
   "source": [
    "##### Answer :\n",
    "\n",
    "1.For Creating object first we should create the class. Class will create using the class key word\n",
    "\n",
    "2.Class instance represent the object. Object will create by giving object name followed by assignment operator and giving the class name\n",
    "\n",
    "##### Below is the Example where we created the car1 object "
   ]
  },
  {
   "cell_type": "code",
   "execution_count": 6,
   "id": "2fef3af8",
   "metadata": {},
   "outputs": [
    {
     "name": "stdout",
     "output_type": "stream",
     "text": [
      "this is my car class\n"
     ]
    }
   ],
   "source": [
    "class car:\n",
    "    def __init__(self,body_type,engine,fuel_type):\n",
    "        self.body_type=body_type\n",
    "        self.engine=engine\n",
    "        self.fuel_type=fuel_type\n",
    "    \n",
    "    def test(self):\n",
    "        print(\"this is my car class\")\n",
    "        \n",
    "car1=car('sedan','2700 cc','diesel')\n",
    "car1.test()"
   ]
  },
  {
   "cell_type": "markdown",
   "id": "64aaf964",
   "metadata": {},
   "source": [
    "#### Q7. What is the process for creating a class?"
   ]
  },
  {
   "cell_type": "markdown",
   "id": "a556d128",
   "metadata": {},
   "source": [
    "1. Create a class name using the \"class\" keyword\n",
    "2. Using __ init__ (constructor) create attributes\n",
    "3. Define the methods usinf functions\n",
    "\n",
    "##### Below is the Example where we created the car1 object "
   ]
  },
  {
   "cell_type": "code",
   "execution_count": null,
   "id": "2cf9f0b7",
   "metadata": {},
   "outputs": [],
   "source": [
    "class car:\n",
    "    def __init__(self,body_type,engine,fuel_type):\n",
    "        self.body_type=body_type\n",
    "        self.engine=engine\n",
    "        self.fuel_type=fuel_type\n",
    "    \n",
    "    def test(self):\n",
    "        print(\"this is my car class\")"
   ]
  },
  {
   "cell_type": "markdown",
   "id": "85c528b5",
   "metadata": {},
   "source": [
    "#### Q8. How would you define the superclasses of a class?"
   ]
  },
  {
   "cell_type": "markdown",
   "id": "a7d7d45e",
   "metadata": {},
   "source": [
    "Super class is the parent class in which the other class inherits the attributes and behaviour. \n",
    "\n",
    "##### Below is the Example"
   ]
  },
  {
   "cell_type": "code",
   "execution_count": null,
   "id": "fec0f9d5",
   "metadata": {},
   "outputs": [],
   "source": [
    "# In the Below example class A is superclass and Class B is subclass\n",
    "class A:\n",
    "    pass\n",
    "\n",
    "class B(A):\n",
    "    pass"
   ]
  }
 ],
 "metadata": {
  "kernelspec": {
   "display_name": "Python 3 (ipykernel)",
   "language": "python",
   "name": "python3"
  },
  "language_info": {
   "codemirror_mode": {
    "name": "ipython",
    "version": 3
   },
   "file_extension": ".py",
   "mimetype": "text/x-python",
   "name": "python",
   "nbconvert_exporter": "python",
   "pygments_lexer": "ipython3",
   "version": "3.10.9"
  }
 },
 "nbformat": 4,
 "nbformat_minor": 5
}
